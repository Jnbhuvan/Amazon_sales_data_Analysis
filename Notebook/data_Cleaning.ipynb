{
 "cells": [
  {
   "cell_type": "code",
   "execution_count": 3,
   "id": "26b20bdd-9739-46ae-8f0a-919bc21c831a",
   "metadata": {},
   "outputs": [
    {
     "name": "stderr",
     "output_type": "stream",
     "text": [
      "C:\\Users\\BHUVAN J N\\AppData\\Local\\Temp\\ipykernel_18860\\3943004229.py:4: DtypeWarning: Columns (22) have mixed types. Specify dtype option on import or set low_memory=False.\n",
      "  amz_df=pd.read_csv('New folder/Cleaned Amazon Sale Report.csv');\n"
     ]
    },
    {
     "data": {
      "text/html": [
       "<div>\n",
       "<style scoped>\n",
       "    .dataframe tbody tr th:only-of-type {\n",
       "        vertical-align: middle;\n",
       "    }\n",
       "\n",
       "    .dataframe tbody tr th {\n",
       "        vertical-align: top;\n",
       "    }\n",
       "\n",
       "    .dataframe thead th {\n",
       "        text-align: right;\n",
       "    }\n",
       "</style>\n",
       "<table border=\"1\" class=\"dataframe\">\n",
       "  <thead>\n",
       "    <tr style=\"text-align: right;\">\n",
       "      <th></th>\n",
       "      <th>index</th>\n",
       "      <th>order_id</th>\n",
       "      <th>parsed_date</th>\n",
       "      <th>status</th>\n",
       "      <th>fulfillment</th>\n",
       "      <th>sales_channel</th>\n",
       "      <th>ship_service_level</th>\n",
       "      <th>style</th>\n",
       "      <th>sku</th>\n",
       "      <th>category</th>\n",
       "      <th>...</th>\n",
       "      <th>currency</th>\n",
       "      <th>amount</th>\n",
       "      <th>ship_city</th>\n",
       "      <th>ship_state</th>\n",
       "      <th>ship_postal_code</th>\n",
       "      <th>ship_country</th>\n",
       "      <th>promotion_ids</th>\n",
       "      <th>is_b2b</th>\n",
       "      <th>fulfilled_by</th>\n",
       "      <th>unnamed_cols</th>\n",
       "    </tr>\n",
       "  </thead>\n",
       "  <tbody>\n",
       "    <tr>\n",
       "      <th>0</th>\n",
       "      <td>96150</td>\n",
       "      <td>408-4631753-5605964</td>\n",
       "      <td>2022-06-25</td>\n",
       "      <td>pending</td>\n",
       "      <td>amazon</td>\n",
       "      <td>amazon.in</td>\n",
       "      <td>expedited</td>\n",
       "      <td>BTM003</td>\n",
       "      <td>BTM003-B-L</td>\n",
       "      <td>bottom</td>\n",
       "      <td>...</td>\n",
       "      <td>INR</td>\n",
       "      <td>0.0</td>\n",
       "      <td>MUMBAI SUBUEBAN</td>\n",
       "      <td>Maharashtra</td>\n",
       "      <td>400066.0</td>\n",
       "      <td>IN</td>\n",
       "      <td>NaN</td>\n",
       "      <td>False</td>\n",
       "      <td>NaN</td>\n",
       "      <td>False</td>\n",
       "    </tr>\n",
       "    <tr>\n",
       "      <th>1</th>\n",
       "      <td>91239</td>\n",
       "      <td>404-2093011-6135513</td>\n",
       "      <td>2022-06-29</td>\n",
       "      <td>pending</td>\n",
       "      <td>merchant</td>\n",
       "      <td>amazon.in</td>\n",
       "      <td>standard</td>\n",
       "      <td>J0062</td>\n",
       "      <td>J0062-DR-M</td>\n",
       "      <td>western dress</td>\n",
       "      <td>...</td>\n",
       "      <td>INR</td>\n",
       "      <td>475.0</td>\n",
       "      <td>SOUTH 24 PARGANAS</td>\n",
       "      <td>West Bengal</td>\n",
       "      <td>743329.0</td>\n",
       "      <td>IN</td>\n",
       "      <td>Amazon PLCC Free-Financing Universal Merchant ...</td>\n",
       "      <td>False</td>\n",
       "      <td>easy ship</td>\n",
       "      <td>False</td>\n",
       "    </tr>\n",
       "    <tr>\n",
       "      <th>2</th>\n",
       "      <td>91223</td>\n",
       "      <td>407-7926766-7601961</td>\n",
       "      <td>2022-06-29</td>\n",
       "      <td>pending</td>\n",
       "      <td>amazon</td>\n",
       "      <td>amazon.in</td>\n",
       "      <td>expedited</td>\n",
       "      <td>J0097</td>\n",
       "      <td>J0097-KR-M</td>\n",
       "      <td>kurta</td>\n",
       "      <td>...</td>\n",
       "      <td>INR</td>\n",
       "      <td>544.0</td>\n",
       "      <td>MUMBAI SUBUEBAN</td>\n",
       "      <td>Maharashtra</td>\n",
       "      <td>400095.0</td>\n",
       "      <td>IN</td>\n",
       "      <td>NaN</td>\n",
       "      <td>False</td>\n",
       "      <td>NaN</td>\n",
       "      <td>False</td>\n",
       "    </tr>\n",
       "    <tr>\n",
       "      <th>3</th>\n",
       "      <td>91459</td>\n",
       "      <td>402-1067136-1825927</td>\n",
       "      <td>2022-06-29</td>\n",
       "      <td>pending</td>\n",
       "      <td>merchant</td>\n",
       "      <td>amazon.in</td>\n",
       "      <td>standard</td>\n",
       "      <td>J0097</td>\n",
       "      <td>J0097-KR-S</td>\n",
       "      <td>kurta</td>\n",
       "      <td>...</td>\n",
       "      <td>INR</td>\n",
       "      <td>544.0</td>\n",
       "      <td>NORTH 24 PARGANAS</td>\n",
       "      <td>West Bengal</td>\n",
       "      <td>700135.0</td>\n",
       "      <td>IN</td>\n",
       "      <td>Amazon PLCC Free-Financing Universal Merchant ...</td>\n",
       "      <td>False</td>\n",
       "      <td>easy ship</td>\n",
       "      <td>False</td>\n",
       "    </tr>\n",
       "    <tr>\n",
       "      <th>4</th>\n",
       "      <td>91662</td>\n",
       "      <td>403-9219853-4911569</td>\n",
       "      <td>2022-06-29</td>\n",
       "      <td>pending</td>\n",
       "      <td>merchant</td>\n",
       "      <td>amazon.in</td>\n",
       "      <td>standard</td>\n",
       "      <td>J0097</td>\n",
       "      <td>J0097-KR-S</td>\n",
       "      <td>kurta</td>\n",
       "      <td>...</td>\n",
       "      <td>INR</td>\n",
       "      <td>544.0</td>\n",
       "      <td>ARARIA</td>\n",
       "      <td>Bihar</td>\n",
       "      <td>854318.0</td>\n",
       "      <td>IN</td>\n",
       "      <td>Amazon PLCC Free-Financing Universal Merchant ...</td>\n",
       "      <td>False</td>\n",
       "      <td>easy ship</td>\n",
       "      <td>False</td>\n",
       "    </tr>\n",
       "  </tbody>\n",
       "</table>\n",
       "<p>5 rows × 24 columns</p>\n",
       "</div>"
      ],
      "text/plain": [
       "   index             order_id parsed_date   status fulfillment sales_channel  \\\n",
       "0  96150  408-4631753-5605964  2022-06-25  pending      amazon     amazon.in   \n",
       "1  91239  404-2093011-6135513  2022-06-29  pending    merchant     amazon.in   \n",
       "2  91223  407-7926766-7601961  2022-06-29  pending      amazon     amazon.in   \n",
       "3  91459  402-1067136-1825927  2022-06-29  pending    merchant     amazon.in   \n",
       "4  91662  403-9219853-4911569  2022-06-29  pending    merchant     amazon.in   \n",
       "\n",
       "  ship_service_level   style         sku       category  ... currency amount  \\\n",
       "0          expedited  BTM003  BTM003-B-L         bottom  ...      INR    0.0   \n",
       "1           standard   J0062  J0062-DR-M  western dress  ...      INR  475.0   \n",
       "2          expedited   J0097  J0097-KR-M          kurta  ...      INR  544.0   \n",
       "3           standard   J0097  J0097-KR-S          kurta  ...      INR  544.0   \n",
       "4           standard   J0097  J0097-KR-S          kurta  ...      INR  544.0   \n",
       "\n",
       "           ship_city   ship_state ship_postal_code  ship_country  \\\n",
       "0    MUMBAI SUBUEBAN  Maharashtra         400066.0            IN   \n",
       "1  SOUTH 24 PARGANAS  West Bengal         743329.0            IN   \n",
       "2    MUMBAI SUBUEBAN  Maharashtra         400095.0            IN   \n",
       "3  NORTH 24 PARGANAS  West Bengal         700135.0            IN   \n",
       "4             ARARIA        Bihar         854318.0            IN   \n",
       "\n",
       "                                       promotion_ids is_b2b  fulfilled_by  \\\n",
       "0                                                NaN  False           NaN   \n",
       "1  Amazon PLCC Free-Financing Universal Merchant ...  False     easy ship   \n",
       "2                                                NaN  False           NaN   \n",
       "3  Amazon PLCC Free-Financing Universal Merchant ...  False     easy ship   \n",
       "4  Amazon PLCC Free-Financing Universal Merchant ...  False     easy ship   \n",
       "\n",
       "  unnamed_cols  \n",
       "0        False  \n",
       "1        False  \n",
       "2        False  \n",
       "3        False  \n",
       "4        False  \n",
       "\n",
       "[5 rows x 24 columns]"
      ]
     },
     "execution_count": 3,
     "metadata": {},
     "output_type": "execute_result"
    }
   ],
   "source": [
    "import pandas as pd\n",
    "import numpy as np\n",
    "\n",
    "amz_df=pd.read_csv('New folder/Cleaned Amazon Sale Report.csv');\n",
    "np.random.seed(0)\n",
    "amz_df.head(5)\n"
   ]
  },
  {
   "cell_type": "code",
   "execution_count": 4,
   "id": "7e465120-245f-4a7a-a48a-f01be22d2dc8",
   "metadata": {},
   "outputs": [
    {
     "name": "stdout",
     "output_type": "stream",
     "text": [
      "index                   int64\n",
      "order_id               object\n",
      "parsed_date            object\n",
      "status                 object\n",
      "fulfillment            object\n",
      "sales_channel          object\n",
      "ship_service_level     object\n",
      "style                  object\n",
      "sku                    object\n",
      "category               object\n",
      "size                   object\n",
      "asin                   object\n",
      "courier_status         object\n",
      "qty                     int64\n",
      "currency               object\n",
      "amount                float64\n",
      "ship_city              object\n",
      "ship_state             object\n",
      "ship_postal_code      float64\n",
      "ship_country           object\n",
      "promotion_ids          object\n",
      "is_b2b                   bool\n",
      "fulfilled_by           object\n",
      "unnamed_cols           object\n",
      "dtype: object\n"
     ]
    }
   ],
   "source": [
    "print(amz_df.dtypes)"
   ]
  },
  {
   "cell_type": "code",
   "execution_count": 6,
   "id": "5e395886-bb4c-4944-8864-34295feb4631",
   "metadata": {},
   "outputs": [],
   "source": [
    "amz_df['order_id'] = amz_df['order_id'].astype('string')\n",
    "amz_df['parsed_date'] = pd.to_datetime(amz_df['parsed_date'], errors='coerce')\n",
    "\n",
    "amz_df = amz_df.astype({\n",
    "    'status': 'string',\n",
    "    'fulfillment': 'string',\n",
    "    'sales_channel': 'string',\n",
    "    'ship_service_level': 'string',\n",
    "    'style': 'string',\n",
    "    'sku': 'string',\n",
    "    'category': 'string',\n",
    "    'size': 'string',\n",
    "    'asin': 'string',\n",
    "    'courier_status': 'string',\n",
    "    'currency': 'string',  # change to Int64 for null-safe\n",
    "    'ship_city': 'string',\n",
    "    'ship_state': 'string',\n",
    "    'ship_country': 'string',\n",
    "    'promotion_ids': 'string',\n",
    "    'fulfilled_by': 'string',\n",
    "    'unnamed_cols': 'string'\n",
    "})\n"
   ]
  },
  {
   "cell_type": "code",
   "execution_count": 7,
   "id": "75979f02-6a3b-408b-b0d2-bcf3e29134cf",
   "metadata": {},
   "outputs": [
    {
     "data": {
      "text/plain": [
       "index                     0\n",
       "order_id                  0\n",
       "parsed_date               0\n",
       "status                    0\n",
       "fulfillment               0\n",
       "sales_channel             0\n",
       "ship_service_level        0\n",
       "style                     0\n",
       "sku                       0\n",
       "category                  0\n",
       "size                      0\n",
       "asin                      0\n",
       "courier_status         6872\n",
       "qty                       0\n",
       "currency               7795\n",
       "amount                 7795\n",
       "ship_city              1081\n",
       "ship_state             1081\n",
       "ship_postal_code         33\n",
       "ship_country             33\n",
       "promotion_ids         49153\n",
       "is_b2b                    0\n",
       "fulfilled_by          89698\n",
       "unnamed_cols          49050\n",
       "dtype: int64"
      ]
     },
     "execution_count": 7,
     "metadata": {},
     "output_type": "execute_result"
    }
   ],
   "source": [
    "missing_values = amz_df.isnull().sum()\n",
    "missing_values"
   ]
  },
  {
   "cell_type": "code",
   "execution_count": 8,
   "id": "a4424229-e1f3-4ef6-928e-5c8072008b68",
   "metadata": {},
   "outputs": [],
   "source": [
    "#removing unnamed_cols column and fulfilled_by column because of having large amount of null values\n",
    "del(amz_df['unnamed_cols'])\n",
    "del(amz_df['fulfilled_by'])"
   ]
  },
  {
   "cell_type": "code",
   "execution_count": 9,
   "id": "4e92808a-db01-428c-97c2-bb35d1146433",
   "metadata": {},
   "outputs": [
    {
     "data": {
      "text/plain": [
       "index                     0\n",
       "order_id                  0\n",
       "parsed_date               0\n",
       "status                    0\n",
       "fulfillment               0\n",
       "sales_channel             0\n",
       "ship_service_level        0\n",
       "style                     0\n",
       "sku                       0\n",
       "category                  0\n",
       "size                      0\n",
       "asin                      0\n",
       "courier_status         6872\n",
       "qty                       0\n",
       "currency               7795\n",
       "amount                 7795\n",
       "ship_city              1081\n",
       "ship_state             1081\n",
       "ship_postal_code         33\n",
       "ship_country             33\n",
       "promotion_ids         49153\n",
       "is_b2b                    0\n",
       "dtype: int64"
      ]
     },
     "execution_count": 9,
     "metadata": {},
     "output_type": "execute_result"
    }
   ],
   "source": [
    "#del(amz_df['unnamed_cols'])\n",
    "missing_values = amz_df.isnull().sum()\n",
    "missing_values"
   ]
  },
  {
   "cell_type": "code",
   "execution_count": 14,
   "id": "eadcfbcb-c8ce-4693-867a-29a3615ef7db",
   "metadata": {},
   "outputs": [],
   "source": [
    "# df['courier_status'] = df['courier_status'].fillna('not kno')\n",
    "amz_df.to_csv('Cleaned Amazon Sale Report.csv', index=False)\n"
   ]
  },
  {
   "cell_type": "code",
   "execution_count": 49,
   "id": "d9fd3bf2-4adf-46f6-8c98-d63013f9a3d8",
   "metadata": {},
   "outputs": [],
   "source": [
    "#amz_df['ship_country'].value_counts()\n"
   ]
  },
  {
   "cell_type": "code",
   "execution_count": 10,
   "id": "51bfff1b-4ef0-472a-8839-d28b69e26c26",
   "metadata": {},
   "outputs": [],
   "source": [
    " del(amz_df['ship_country'])"
   ]
  },
  {
   "cell_type": "code",
   "execution_count": 11,
   "id": "abdfae84-8b86-4a63-ab0c-10c4343ae476",
   "metadata": {},
   "outputs": [
    {
     "data": {
      "text/plain": [
       "index                     0\n",
       "order_id                  0\n",
       "parsed_date               0\n",
       "status                    0\n",
       "fulfillment               0\n",
       "sales_channel             0\n",
       "ship_service_level        0\n",
       "style                     0\n",
       "sku                       0\n",
       "category                  0\n",
       "size                      0\n",
       "asin                      0\n",
       "courier_status         6872\n",
       "qty                       0\n",
       "currency               7795\n",
       "amount                 7795\n",
       "ship_city              1081\n",
       "ship_state             1081\n",
       "ship_postal_code         33\n",
       "promotion_ids         49153\n",
       "is_b2b                    0\n",
       "dtype: int64"
      ]
     },
     "execution_count": 11,
     "metadata": {},
     "output_type": "execute_result"
    }
   ],
   "source": [
    "missing_values = amz_df.isnull().sum()\n",
    "missing_values"
   ]
  },
  {
   "cell_type": "code",
   "execution_count": 22,
   "id": "48abace1-ea88-4e61-a2cb-b9d37b8879f4",
   "metadata": {},
   "outputs": [],
   "source": [
    "# amz_df['promotion_ids'].fillna('no_id!',inplace=True)"
   ]
  },
  {
   "cell_type": "code",
   "execution_count": 12,
   "id": "cf0e7336-f0d3-4a53-b0c3-81fe07c774dd",
   "metadata": {},
   "outputs": [],
   "source": [
    "#dropping currency column \n",
    "del(amz_df['currency'])\n",
    "\n",
    "#filling null cells of courier_status with not shipped\n",
    "amz_df['courier_status'] = amz_df['courier_status'].fillna('Not Shipped')\n",
    "\n",
    "#dropping rows where ship_city, ship_state and ship_postal_code contain null values in it\n",
    "amz_df.dropna( subset=['ship_city','ship_state','ship_postal_code'],inplace=True)\n"
   ]
  },
  {
   "cell_type": "code",
   "execution_count": 13,
   "id": "ef14914a-3bef-4974-9e88-de6a25f3f2ec",
   "metadata": {},
   "outputs": [],
   "source": [
    "amz_df.dropna(subset = ['amount'],inplace=True)"
   ]
  },
  {
   "cell_type": "code",
   "execution_count": 14,
   "id": "bcb2ab75-d886-4290-95cf-59e25941e25c",
   "metadata": {},
   "outputs": [
    {
     "data": {
      "text/plain": [
       "index                     0\n",
       "order_id                  0\n",
       "parsed_date               0\n",
       "status                    0\n",
       "fulfillment               0\n",
       "sales_channel             0\n",
       "ship_service_level        0\n",
       "style                     0\n",
       "sku                       0\n",
       "category                  0\n",
       "size                      0\n",
       "asin                      0\n",
       "courier_status            0\n",
       "qty                       0\n",
       "amount                    0\n",
       "ship_city                 0\n",
       "ship_state                0\n",
       "ship_postal_code          0\n",
       "promotion_ids         41380\n",
       "is_b2b                    0\n",
       "dtype: int64"
      ]
     },
     "execution_count": 14,
     "metadata": {},
     "output_type": "execute_result"
    }
   ],
   "source": [
    "missing_values = amz_df.isnull().sum()\n",
    "missing_values"
   ]
  },
  {
   "cell_type": "code",
   "execution_count": 15,
   "id": "631f1d24-ea2d-4ad5-b350-a522fae12e7b",
   "metadata": {},
   "outputs": [
    {
     "data": {
      "text/plain": [
       "120161"
      ]
     },
     "execution_count": 15,
     "metadata": {},
     "output_type": "execute_result"
    }
   ],
   "source": [
    "len(amz_df)"
   ]
  },
  {
   "cell_type": "code",
   "execution_count": 17,
   "id": "cc480b2f-bc34-4083-9406-00690a78fb45",
   "metadata": {},
   "outputs": [],
   "source": [
    "amz_df.to_csv('Cleaned Amazon Sale Report.csv',index=False)"
   ]
  },
  {
   "cell_type": "code",
   "execution_count": null,
   "id": "c3b9d49f-e8f7-4547-9cd8-a5b7ba3b312d",
   "metadata": {},
   "outputs": [],
   "source": []
  }
 ],
 "metadata": {
  "kernelspec": {
   "display_name": "Python 3 (ipykernel)",
   "language": "python",
   "name": "python3"
  },
  "language_info": {
   "codemirror_mode": {
    "name": "ipython",
    "version": 3
   },
   "file_extension": ".py",
   "mimetype": "text/x-python",
   "name": "python",
   "nbconvert_exporter": "python",
   "pygments_lexer": "ipython3",
   "version": "3.13.3"
  }
 },
 "nbformat": 4,
 "nbformat_minor": 5
}
